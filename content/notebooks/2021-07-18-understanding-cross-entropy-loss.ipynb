{
  "nbformat": 4,
  "nbformat_minor": 2,
  "metadata": {
    "title": "Understanding Cross-Entropy Loss",
    "date": "2021-07-18",
    "colab": {
      "name": "Understanding Cross-Entropy Loss.ipynb",
      "provenance": []
    },
    "kernelspec": {
      "name": "python3",
      "display_name": "Python 3"
    },
    "language_info": {
      "name": "python"
    }
  },
  "cells": [
    {
      "cell_type": "markdown",
      "source": [
        "# Understanding Cross-Entropy Loss\n",
        "\n",
        "**Recall:** a loss function compares the predictions of a model with the correct labels to tell us how well the model is doing, and to help find out how we can update the model's parameters to improve its performance (using gradient descent).\n",
        "\n",
        "**Cross-entropy** is a loss function we can use to train a model when the output is one of several classes. For example, we have 10 classes to choose from when trying to predict which number an image of a single digit represents.\n",
        "\n",
        "![](/prd8.png)\n",
        "\n",
        "*In this image, the number we are trying to predict belongs to the class representing the digit 8.*\n",
        "\n",
        "To use the cross-entropy loss, we need to have as many outputs from our model as the number of possible classes. The cross-entropy loss then enables us to train the model such that the value of the output corresponding to the correct prediction is high, and for the other outputs it is low.\n",
        "\n",
        "The first step of using the cross-entropy loss function is passing the raw outputs of the model through a **softmax layer**. A softmax layer squishes all the outputs of the model between 0 and 1. It also ensures that all these values combined add up to 1.\n",
        "\n"
      ],
      "metadata": {
        "id": "RljOQxiSZeal"
      }
    },
    {
      "cell_type": "code",
      "execution_count": 10,
      "source": [
        "import torch\n",
        "\n",
        "t = torch.tensor([[-9, 5, 10]], dtype=torch.double)\n",
        "torch.softmax(t, dim=1)"
      ],
      "outputs": [
        {
          "output_type": "execute_result",
          "data": {
            "text/plain": [
              "tensor([[5.5653e-09, 6.6929e-03, 9.9331e-01]], dtype=torch.float64)"
            ]
          },
          "metadata": {
            "tags": []
          },
          "execution_count": 10
        }
      ],
      "metadata": {
        "colab": {
          "base_uri": "https://localhost:8080/"
        },
        "id": "TVEXPEgL62Xg",
        "outputId": "b897cf5c-39cd-4e13-f359-a97215911dcb"
      }
    },
    {
      "cell_type": "markdown",
      "source": [
        "Mathematically, each of the values above is calculated as follows:\n",
        "\n",
        "![](/sm-eqn.png)\n",
        "\n",
        "We can create a function to calculate the softmax on our own as follows:\n"
      ],
      "metadata": {
        "id": "UJyRxyA-8HRC"
      }
    },
    {
      "cell_type": "code",
      "execution_count": 11,
      "source": [
        "def softmax(x):\n",
        "  return torch.exp(x) / torch.exp(x).sum()\n",
        "\n",
        "softmax(t)"
      ],
      "outputs": [
        {
          "output_type": "execute_result",
          "data": {
            "text/plain": [
              "tensor([[5.5653e-09, 6.6929e-03, 9.9331e-01]], dtype=torch.float64)"
            ]
          },
          "metadata": {
            "tags": []
          },
          "execution_count": 11
        }
      ],
      "metadata": {
        "colab": {
          "base_uri": "https://localhost:8080/"
        },
        "id": "aB8WVAKC8fr5",
        "outputId": "d0fb76f0-e9d2-437e-ac38-17bc7d600b33"
      }
    },
    {
      "cell_type": "markdown",
      "source": [
        "Each value can be interpreted as the confidence with which the model predicts the corresponding output as the correct class.\n",
        "\n",
        "Since the exponential function is used in the softmax layer, any raw output from the model that is slightly higher than another will be amplified by the softmax layer.\n",
        "\n",
        "![](/exp.png)\n",
        "\n",
        "*The exponential function amplifies even small differences in input values*\n",
        "\n",
        "This goes to show that the softmax layer tries its best to pick one single value as the correct model output. As a result, this layer works really well when trying to train a classifier that has to pick one correct category.\n",
        "\n",
        "On the other hand, if you want a model not to pick a class just because it has just a slightly higher output value, it is advisable to use the sigmoid function with each individual output.\n",
        "\n",
        "After the softmax layer, the second part of the cross-entropy loss is the **log likelihood**.\n",
        "\n",
        "By using the softmax layer, we have condensed the value of each output between 0 and 1. This greatly reduces the sensitivity of the model confidence. For example, a prediction of 0.999 can be interpreted as being 10 times more confident than a prediction of 0.99. However, on a softmax scale, the difference between the two values is minuscule - a mere 0.009!\n",
        "\n",
        "By taking the log of the values, we can amplify even such small differences.\n",
        "\n",
        "For example,\n",
        "\n",
        "$$\n",
        "\\frac{0.999}{0.99} \\times 100\\% = \\text{approx. 0.9\\% difference in confidence}\n",
        "$$\n",
        "\n",
        "However,\n",
        "\n",
        "$$\n",
        "\\frac{\\log{0.999}}{\\log{0.99}} \\times 100\\% = \\text{approx. 10\\% difference in confidence}\n",
        "$$\n",
        "\n",
        "On a log scale, number close to 0 are pushed towards negative infinity and numbers close to 1 are pushed towards 0.\n",
        "\n",
        "![](/lgx.png)\n",
        "\n",
        "Let us now consider the model output value corresponding to the correct class. If we maximize this value, then all the other values will be automatically minimized (since all values have to add up to 1 because of the softmax layer).\n",
        "\n",
        "If the output of the model corresponding to the correct class is close to 1, its log value will be close to 0. However, if the model output is close to 0, its log value will be highly negative (close to negative infinity).\n",
        "\n",
        "We need the value of the loss function to be high when the prediction is incorrect, and low when the prediction is correct. We can have this with the log values if we drop the negative sign (or equivalently, multiply the value by -1). Then, when the model output is close to 0 for the correct class (incorrect prediction), the negative log value will be extremely high and when the model output is close to 1 for the correct class (correct prediction), the negative log value will be close to 0.\n",
        "\n",
        "![](/neg-lgx.png)\n",
        "\n",
        "We can then use this as a loss function to maximize the output of the model corresponding to the correct class. Like we saw before, this will automatically minimize the outputs of the other classes because of the softmax function.\n",
        "\n",
        "This combination of softmax and log-likelihood is the cross-entropy loss."
      ],
      "metadata": {
        "id": "J5MfTbqZ8ovI"
      }
    },
    {
      "cell_type": "markdown",
      "source": [
        "To see how this all works with PyTorch, let us assume we have 3 data points that can belong to one of 5 classes.\n",
        "\n",
        "Assume our model produces the following output for these 3 data points:"
      ],
      "metadata": {
        "id": "GVMEDvxF6xzV"
      }
    },
    {
      "cell_type": "code",
      "execution_count": 8,
      "source": [
        "model_output = torch.randn((3, 5))\n",
        "model_output"
      ],
      "outputs": [
        {
          "output_type": "execute_result",
          "data": {
            "text/plain": [
              "tensor([[-0.7514,  1.2616, -0.4232,  1.3868,  1.2298],\n",
              "        [ 1.5341, -0.4240,  0.0112, -0.5188,  0.1129],\n",
              "        [-2.6143,  0.1532,  0.0868, -0.8231,  0.7698]])"
            ]
          },
          "metadata": {
            "tags": []
          },
          "execution_count": 8
        }
      ],
      "metadata": {
        "colab": {
          "base_uri": "https://localhost:8080/"
        },
        "id": "C_UJF3OuZSYE",
        "outputId": "af6fd716-f7eb-4e6a-fc9b-fc10ebf50698"
      }
    },
    {
      "cell_type": "markdown",
      "source": [
        "Let us also assume that the correct classes for these data points are as follows:"
      ],
      "metadata": {
        "id": "AWeOBZnLzTm-"
      }
    },
    {
      "cell_type": "code",
      "execution_count": 20,
      "source": [
        "targets = torch.tensor([3, 0, 1])\n",
        "targets"
      ],
      "outputs": [
        {
          "output_type": "execute_result",
          "data": {
            "text/plain": [
              "tensor([3, 0, 1])"
            ]
          },
          "metadata": {
            "tags": []
          },
          "execution_count": 20
        }
      ],
      "metadata": {
        "colab": {
          "base_uri": "https://localhost:8080/"
        },
        "id": "4oMsbZXSzQqd",
        "outputId": "c9bbb6a4-8368-4d37-a676-c8a16078c48f"
      }
    },
    {
      "cell_type": "markdown",
      "source": [
        "We first pass these outputs through a softmax layer:"
      ],
      "metadata": {
        "id": "EXHvgIQDzyY8"
      }
    },
    {
      "cell_type": "code",
      "execution_count": 21,
      "source": [
        "sm = torch.softmax(model_output, dim = 1)\n",
        "sm"
      ],
      "outputs": [
        {
          "output_type": "execute_result",
          "data": {
            "text/plain": [
              "tensor([[0.0390, 0.2923, 0.0542, 0.3313, 0.2832],\n",
              "        [0.5784, 0.0816, 0.1261, 0.0742, 0.1396],\n",
              "        [0.0149, 0.2365, 0.2213, 0.0891, 0.4382]])"
            ]
          },
          "metadata": {
            "tags": []
          },
          "execution_count": 21
        }
      ],
      "metadata": {
        "colab": {
          "base_uri": "https://localhost:8080/"
        },
        "id": "T3ZWL-Wezsvw",
        "outputId": "5c751ba8-7df8-4542-8749-420b26d687c7"
      }
    },
    {
      "cell_type": "markdown",
      "source": [
        "As expected, all values have been squished between 0 and 1.\n",
        "\n",
        "We can also confirm that for each data point, the values sum up to 1:"
      ],
      "metadata": {
        "id": "SRJFEdtf0FmB"
      }
    },
    {
      "cell_type": "code",
      "execution_count": 22,
      "source": [
        "sm.sum(dim=1)"
      ],
      "outputs": [
        {
          "output_type": "execute_result",
          "data": {
            "text/plain": [
              "tensor([1.0000, 1.0000, 1.0000])"
            ]
          },
          "metadata": {
            "tags": []
          },
          "execution_count": 22
        }
      ],
      "metadata": {
        "colab": {
          "base_uri": "https://localhost:8080/"
        },
        "id": "4NsDOZYUz6Eu",
        "outputId": "7d23a2ce-7c80-4713-9666-b1a945af372d"
      }
    },
    {
      "cell_type": "markdown",
      "source": [
        "Next, we take the log of these values:"
      ],
      "metadata": {
        "id": "9stWIW580z3Q"
      }
    },
    {
      "cell_type": "code",
      "execution_count": 23,
      "source": [
        "lg = torch.log(sm)\n",
        "lg"
      ],
      "outputs": [
        {
          "output_type": "execute_result",
          "data": {
            "text/plain": [
              "tensor([[-3.2429, -1.2300, -2.9147, -1.1048, -1.2618],\n",
              "        [-0.5476, -2.5056, -2.0705, -2.6004, -1.9687],\n",
              "        [-4.2092, -1.4417, -1.5081, -2.4180, -0.8251]])"
            ]
          },
          "metadata": {
            "tags": []
          },
          "execution_count": 23
        }
      ],
      "metadata": {
        "colab": {
          "base_uri": "https://localhost:8080/"
        },
        "id": "iOFQzbtv0ued",
        "outputId": "87c1a44e-3d56-4b06-b148-14b372b4c4f9"
      }
    },
    {
      "cell_type": "markdown",
      "source": [
        "We can then use `nll_loss` (i.e. Negative Log Likelihood) that will find the mean of the values corresponding to the correct class. This function will also multiply the values by -1 for us before doing so."
      ],
      "metadata": {
        "id": "Ry2MwVTt1BtA"
      }
    },
    {
      "cell_type": "code",
      "execution_count": 24,
      "source": [
        "import torch.nn.functional as F\n",
        "\n",
        "loss = F.nll_loss(lg, targets)\n",
        "loss"
      ],
      "outputs": [
        {
          "output_type": "execute_result",
          "data": {
            "text/plain": [
              "tensor(1.0314)"
            ]
          },
          "metadata": {
            "tags": []
          },
          "execution_count": 24
        }
      ],
      "metadata": {
        "colab": {
          "base_uri": "https://localhost:8080/"
        },
        "id": "92fLfNg006EY",
        "outputId": "5d993167-89f9-4fb9-998c-7a61778c4761"
      }
    },
    {
      "cell_type": "markdown",
      "source": [
        "We can manually verify this for the 3 data points:"
      ],
      "metadata": {
        "id": "xiZ0pIA12gaw"
      }
    },
    {
      "cell_type": "code",
      "execution_count": 27,
      "source": [
        "-1 * (lg[0][targets[0]] + lg[1][targets[1]] + lg[2][targets[2]]) / 3"
      ],
      "outputs": [
        {
          "output_type": "execute_result",
          "data": {
            "text/plain": [
              "tensor(1.0314)"
            ]
          },
          "metadata": {
            "tags": []
          },
          "execution_count": 27
        }
      ],
      "metadata": {
        "colab": {
          "base_uri": "https://localhost:8080/"
        },
        "id": "bWg3STJl1sU2",
        "outputId": "db120fae-5c48-4787-815b-29d995142913"
      }
    },
    {
      "cell_type": "markdown",
      "source": [
        "Note that the `nll_loss` function assumes that the log has been taken before the values are passed to the function.\n",
        "\n",
        "PyTorch has a `log_softmax` function that combines softmax with log in one step. We can use that function to achieve the same result as follows:"
      ],
      "metadata": {
        "id": "IeGDcmRZ22t6"
      }
    },
    {
      "cell_type": "code",
      "execution_count": 29,
      "source": [
        "lsm = F.log_softmax(model_output, dim = 1)\n",
        "loss = F.nll_loss(lsm, targets)\n",
        "loss"
      ],
      "outputs": [
        {
          "output_type": "execute_result",
          "data": {
            "text/plain": [
              "tensor(1.0314)"
            ]
          },
          "metadata": {
            "tags": []
          },
          "execution_count": 29
        }
      ],
      "metadata": {
        "colab": {
          "base_uri": "https://localhost:8080/"
        },
        "id": "cUJ7xmWM2zvB",
        "outputId": "318c9155-0152-4c6e-8aa4-88686ac872c3"
      }
    },
    {
      "cell_type": "markdown",
      "source": [
        "PyTorch also has a cross-entropy loss that can be used directly on raw model outputs:"
      ],
      "metadata": {
        "id": "mlrWpT-A3gr_"
      }
    },
    {
      "cell_type": "code",
      "execution_count": 31,
      "source": [
        "F.cross_entropy(model_output, targets)"
      ],
      "outputs": [
        {
          "output_type": "execute_result",
          "data": {
            "text/plain": [
              "tensor(1.0314)"
            ]
          },
          "metadata": {
            "tags": []
          },
          "execution_count": 31
        }
      ],
      "metadata": {
        "colab": {
          "base_uri": "https://localhost:8080/"
        },
        "id": "uoYkLAFf3aGn",
        "outputId": "6e8fa2ba-26ce-4a79-d50b-8aac99120858"
      }
    },
    {
      "cell_type": "markdown",
      "source": [
        "The relationship between these three approaches can be summarized as follows:\n",
        "\n",
        "![](/sm.png)\n",
        "\n",
        "## References\n",
        "\n",
        "- [Deep Learning for Coders with Fastai and Pytorch: AI Applications Without a PhD (Fastbook) - Ch. 5](https://github.com/fastai/fastbook/blob/master/05_pet_breeds.ipynb)\n",
        "- [Understanding softmax and the negative log-likelihood](https://ljvmiranda921.github.io/notebook/2017/08/13/softmax-and-the-negative-log-likelihood/)"
      ],
      "metadata": {
        "id": "px2gtvp83rSU"
      }
    },
    {
      "cell_type": "markdown",
      "source": [],
      "metadata": {}
    }
  ]
}